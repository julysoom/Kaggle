{
 "cells": [
  {
   "cell_type": "markdown",
   "metadata": {},
   "source": [
    "# Cropping"
   ]
  },
  {
   "cell_type": "code",
   "execution_count": 67,
   "metadata": {},
   "outputs": [],
   "source": [
    "import cv2\n",
    "import os, errno\n",
    "from tqdm import tqdm_notebook, tqdm\n",
    "from jupyterthemes import jtplot\n",
    "jtplot.style(theme=\"grade3\", grid=False)\n",
    "pd.set_option(\"display.max_colwidth\", 1200)\n",
    "plt.rc(\"ytick\", labelsize=20)\n",
    "plt.rc(\"xtick\", labelsize=20)"
   ]
  },
  {
   "cell_type": "code",
   "execution_count": 68,
   "metadata": {},
   "outputs": [],
   "source": [
    "import pandas as pd\n",
    "import numpy as np\n",
    "from keras.utils import np_utils\n",
    "from keras.models import Sequential\n",
    "from keras.layers.core import Dense, Dropout, Activation, Flatten\n",
    "from keras.layers.convolutional import Conv2D, MaxPooling2D\n",
    "from keras.optimizers import SGD, Adam, RMSprop\n",
    "import matplotlib.pyplot as plt\n",
    "%matplotlib inline"
   ]
  },
  {
   "cell_type": "code",
   "execution_count": 69,
   "metadata": {},
   "outputs": [
    {
     "data": {
      "text/plain": [
       "'C:\\\\Users\\\\irie9\\\\Python'"
      ]
     },
     "execution_count": 69,
     "metadata": {},
     "output_type": "execute_result"
    }
   ],
   "source": [
    "os.getcwd()"
   ]
  },
  {
   "cell_type": "code",
   "execution_count": 70,
   "metadata": {},
   "outputs": [],
   "source": [
    "def cropped_nasa_bad(folder_name, make_folder_name) :\n",
    "    def make_file_path_data_frame(path) :\n",
    "        file_list = os.listdir(path)\n",
    "        file_list.sort()\n",
    "        file_data_frame = pd.DataFrame(file_list, columns = [\"file_path\"])\n",
    "        if path[-1] == \"/\" :\n",
    "            file_data_frame = path + file_data_frame[\"file_path\"]\n",
    "        else :\n",
    "            file_data_frame = path + \"/\" + file_data_frame[\"file_path\"]\n",
    "        file_data_frame = pd.DataFrame(file_data_frame)\n",
    "        return file_data_frame\n",
    "    \n",
    "    file_names = make_file_path_data_frame(\"C://Users/irie9/Python/\" + folder_name)\n",
    "    \n",
    "    for j in range(len(file_names[\"file_path\"])) :\n",
    "        img = cv2.imread(file_names[\"file_path\"][j], 0)\n",
    "        ret, thresh = cv2.threshold(img, 127, 255, cv2.THRESH_BINARY)\n",
    "        titles = \"BINARY\"\n",
    "        img_t = thresh\n",
    "        img = cv2.medianBlur(img_t, 5)\n",
    "        cimg = cv2.cvtColor(img_t, cv2.COLOR_GRAY2BGR)\n",
    "        circles = cv2.HoughCircles(img, cv2.HOUGH_GRADIENT, 2, img.shape[1],\n",
    "                                  param1=200, param2=20, minRadius=300,\n",
    "                                  maxRadius=350)\n",
    "        W = int(circles[0, 0, 0])\n",
    "        H = int(circles[0, 0, 1])\n",
    "        r = int(circles[0, 0, 2])\n",
    "        circles = np.uint16(np.around(circles))\n",
    "        \n",
    "        for i in circles[0, :] :\n",
    "            cv2.circle(cimg, (i[0], i[1]), i[2], (0, 255, 0), 2)\n",
    "            cv2.circle(cimg, (i[0], i[1]), 2, (0, 0, 255), 3)\n",
    "        cropped_img = img_t[H-r-20:H+r+20, W-r-20:W+r+20]\n",
    "        path = \"C://Users/irie9/Python/\" + make_folder_name + \"/\"\n",
    "        cv2.imwrite(path + \"bad_\" + str(j) + \".png\", cropped_img)"
   ]
  },
  {
   "cell_type": "code",
   "execution_count": 71,
   "metadata": {},
   "outputs": [],
   "source": [
    "def cropped_nasa_good(folder_name, make_folder_name) :\n",
    "    def make_file_path_data_frame(path) :\n",
    "        file_list = os.listdir(path)\n",
    "        file_list.sort()\n",
    "        file_data_frame = pd.DataFrame(file_list, columns = [\"file_path\"])\n",
    "        if path[-1] == \"/\" :\n",
    "            file_data_frame = path + file_data_frame[\"file_path\"]\n",
    "        else :\n",
    "            file_data_frame = path + \"/\" + file_data_frame[\"file_path\"]\n",
    "        file_data_frame = pd.DataFrame(file_data_frame)\n",
    "        return file_data_frame\n",
    "    \n",
    "    file_names = make_file_path_data_frame(\"C://Users/irie9/Python/\" + folder_name)\n",
    "    \n",
    "    for j in range(len(file_names[\"file_path\"])) :\n",
    "        img = cv2.imread(file_names[\"file_path\"][j], 0)\n",
    "        ret, thresh = cv2.threshold(img, 127, 255, cv2.THRESH_BINARY)\n",
    "        titles = \"BINARY\"\n",
    "        img_t = thresh\n",
    "        img = cv2.medianBlur(img_t, 5)\n",
    "        cimg = cv2.cvtColor(img_t, cv2.COLOR_GRAY2BGR)\n",
    "        circles = cv2.HoughCircles(img, cv2.HOUGH_GRADIENT, 2, img.shape[1],\n",
    "                                  param1=200, param2=20, minRadius=300,\n",
    "                                  maxRadius=350)\n",
    "        W = int(circles[0, 0, 0])\n",
    "        H = int(circles[0, 0, 1])\n",
    "        r = int(circles[0, 0, 2])\n",
    "        circles = np.uint16(np.around(circles))\n",
    "        \n",
    "        for i in circles[0, :] :\n",
    "            cv2.circle(cimg, (i[0], i[1]), i[2], (0, 255, 0), 2)\n",
    "            cv2.circle(cimg, (i[0], i[1]), 2, (0, 0, 255), 3)\n",
    "        cropped_img = img_t[H-r-20:H+r+20, W-r-20:W+r+20]\n",
    "        path = \"C://Users/irie9/Python/\" + make_folder_name + \"/\"\n",
    "        cv2.imwrite(path + \"good_\" + str(j) + \".png\", cropped_img)"
   ]
  },
  {
   "cell_type": "code",
   "execution_count": 73,
   "metadata": {},
   "outputs": [],
   "source": [
    "cropped_nasa_bad(\"bad\", \"c_bad\")\n",
    "## 불러올 이미지 폴더 이름, crop 된 이미지 폴더 이름\n",
    "## 미리 경로에 생성할것"
   ]
  },
  {
   "cell_type": "code",
   "execution_count": 74,
   "metadata": {},
   "outputs": [],
   "source": [
    "cropped_nasa_good(\"good\", \"c_good\")"
   ]
  }
 ],
 "metadata": {
  "kernelspec": {
   "display_name": "Python 3",
   "language": "python",
   "name": "python3"
  },
  "language_info": {
   "codemirror_mode": {
    "name": "ipython",
    "version": 3
   },
   "file_extension": ".py",
   "mimetype": "text/x-python",
   "name": "python",
   "nbconvert_exporter": "python",
   "pygments_lexer": "ipython3",
   "version": "3.6.7"
  },
  "toc": {
   "base_numbering": 1,
   "nav_menu": {},
   "number_sections": true,
   "sideBar": true,
   "skip_h1_title": false,
   "title_cell": "Table of Contents",
   "title_sidebar": "Contents",
   "toc_cell": false,
   "toc_position": {},
   "toc_section_display": true,
   "toc_window_display": false
  },
  "varInspector": {
   "cols": {
    "lenName": 16,
    "lenType": 16,
    "lenVar": 40
   },
   "kernels_config": {
    "python": {
     "delete_cmd_postfix": "",
     "delete_cmd_prefix": "del ",
     "library": "var_list.py",
     "varRefreshCmd": "print(var_dic_list())"
    },
    "r": {
     "delete_cmd_postfix": ") ",
     "delete_cmd_prefix": "rm(",
     "library": "var_list.r",
     "varRefreshCmd": "cat(var_dic_list()) "
    }
   },
   "types_to_exclude": [
    "module",
    "function",
    "builtin_function_or_method",
    "instance",
    "_Feature"
   ],
   "window_display": false
  }
 },
 "nbformat": 4,
 "nbformat_minor": 2
}
